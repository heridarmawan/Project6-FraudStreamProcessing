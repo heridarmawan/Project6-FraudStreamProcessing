{
 "cells": [
  {
   "cell_type": "code",
   "execution_count": null,
   "metadata": {},
   "outputs": [
    {
     "ename": "",
     "evalue": "",
     "output_type": "error",
     "traceback": [
      "\u001b[1;31mRunning cells with 'Python 3.10.7 64-bit (microsoft store)' requires ipykernel package.\n",
      "\u001b[1;31mRun the following command to install 'ipykernel' into the Python environment. \n",
      "\u001b[1;31mCommand: '\"c:/Users/HERI DARMAWAN/AppData/Local/Microsoft/WindowsApps/python3.10.exe\" -m pip install ipykernel -U --force-reinstall'"
     ]
    }
   ],
   "source": [
    "#!python3\n",
    "\n",
    "import pickle\n",
    "import pandas\n",
    "from sklearn.linear_model import LogisticRegression\n",
    "\n",
    "if __name__ == \"__main__\":\n",
    "    \n",
    "    df = pandas.read_csv('Fraud.csv')\n",
    "    \n",
    "    d_devices = pandas.get_dummies(df['device'])\n",
    "    d_devices.insert(0,'device',df['device'])\n",
    "    d_devices.drop_duplicates().to_json('dict_devices.json', orient='records')\n",
    "\n",
    "    d_newbalanceDest = pandas.get_dummies(df['newbalanceDest'])\n",
    "    d_newbalanceDest.insert(0,'newbalanceDest',df['newbalanceDest'])\n",
    "    d_newbalanceDest.drop_duplicates().to_json('dict_newbalanceDest.json', orient='records')\n",
    "\n",
    "    df = pandas.concat([df,pandas.get_dummies(df['device'])], axis=1).drop('device', axis=1)\n",
    "    df = pandas.concat([df,pandas.get_dummies(df['newbalanceDest'])], axis=1).drop('newbalanceDest', axis=1)\n",
    "\n",
    "    X = df.drop(['isFraud'], axis=1).values.tolist()\n",
    "    y = df[['isFraud']].values.tolist()\n",
    "    \n",
    "    model = LogisticRegression()\n",
    "    model.fit(X,y)\n",
    "    with open('modelFraud.pkl','wb') as file:\n",
    "        pickle.dump(model, file)"
   ]
  },
  {
   "cell_type": "code",
   "execution_count": null,
   "metadata": {},
   "outputs": [
    {
     "ename": "",
     "evalue": "",
     "output_type": "error",
     "traceback": [
      "\u001b[1;31mRunning cells with 'Python 3.10.7 64-bit (microsoft store)' requires ipykernel package.\n",
      "\u001b[1;31mRun the following command to install 'ipykernel' into the Python environment. \n",
      "\u001b[1;31mCommand: '\"c:/Users/HERI DARMAWAN/AppData/Local/Microsoft/WindowsApps/python3.10.exe\" -m pip install ipykernel -U --force-reinstall'"
     ]
    }
   ],
   "source": []
  },
  {
   "cell_type": "code",
   "execution_count": null,
   "metadata": {},
   "outputs": [],
   "source": []
  }
 ],
 "metadata": {
  "kernelspec": {
   "display_name": "Python 3.10.7 64-bit (microsoft store)",
   "language": "python",
   "name": "python3"
  },
  "language_info": {
   "codemirror_mode": {
    "name": "ipython",
    "version": 3
   },
   "file_extension": ".py",
   "mimetype": "text/x-python",
   "name": "python",
   "nbconvert_exporter": "python",
   "pygments_lexer": "ipython3",
   "version": "3.10.7"
  },
  "vscode": {
   "interpreter": {
    "hash": "12071f06f655951f012376b6e3d252569840f2231bf929740f7163681d622377"
   }
  }
 },
 "nbformat": 4,
 "nbformat_minor": 4
}
